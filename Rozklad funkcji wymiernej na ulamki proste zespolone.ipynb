{
 "cells": [
  {
   "cell_type": "code",
   "execution_count": 5,
   "metadata": {},
   "outputs": [],
   "source": [
    "# Rozkład rzeczywistej funkcji wymiernej na ułamki proste zespolone"
   ]
  },
  {
   "cell_type": "code",
   "execution_count": 6,
   "metadata": {},
   "outputs": [
    {
     "data": {
      "text/html": [
       "Nasza funkcja: "
      ],
      "text/plain": [
       "'Nasza funkcja: '"
      ]
     },
     "metadata": {},
     "output_type": "display_data"
    },
    {
     "data": {
      "text/html": [
       "<html><script type=\"math/tex; mode=display\">\\newcommand{\\Bold}[1]{\\mathbf{#1}}\\frac{2 \\, x^{2} + 5 \\, x + 3}{3 \\, x^{4} + 4 \\, x^{2}}</script></html>"
      ],
      "text/latex": [
       "$$\\newcommand{\\Bold}[1]{\\mathbf{#1}}\\frac{2 \\, x^{2} + 5 \\, x + 3}{3 \\, x^{4} + 4 \\, x^{2}}$$"
      ],
      "text/plain": [
       "(2*x^2 + 5*x + 3)/(3*x^4 + 4*x^2)"
      ]
     },
     "metadata": {},
     "output_type": "display_data"
    },
    {
     "name": "stdout",
     "output_type": "stream",
     "text": [
      "\n",
      "\n"
     ]
    },
    {
     "data": {
      "text/html": [
       "MIEJSCA ZEROWE: "
      ],
      "text/plain": [
       "'MIEJSCA ZEROWE: '"
      ]
     },
     "metadata": {},
     "output_type": "display_data"
    },
    {
     "data": {
      "text/html": [
       "<html><script type=\"math/tex; mode=display\">\\newcommand{\\Bold}[1]{\\mathbf{#1}}\\verb|pierwiastek:| -\\frac{2}{3} i \\, \\sqrt{3} \\verb|,|\\phantom{\\verb!x!}\\verb|stopnia:| 1</script></html>"
      ],
      "text/latex": [
       "$$\\newcommand{\\Bold}[1]{\\mathbf{#1}}\\verb|pierwiastek:| -\\frac{2}{3} i \\, \\sqrt{3} \\verb|,|\\phantom{\\verb!x!}\\verb|stopnia:| 1$$"
      ],
      "text/plain": [
       "'pierwiastek: ' -2/3*I*sqrt(3) ', stopnia: ' 1"
      ]
     },
     "metadata": {},
     "output_type": "display_data"
    },
    {
     "data": {
      "text/html": [
       "<html><script type=\"math/tex; mode=display\">\\newcommand{\\Bold}[1]{\\mathbf{#1}}\\verb|pierwiastek:| \\frac{2}{3} i \\, \\sqrt{3} \\verb|,|\\phantom{\\verb!x!}\\verb|stopnia:| 1</script></html>"
      ],
      "text/latex": [
       "$$\\newcommand{\\Bold}[1]{\\mathbf{#1}}\\verb|pierwiastek:| \\frac{2}{3} i \\, \\sqrt{3} \\verb|,|\\phantom{\\verb!x!}\\verb|stopnia:| 1$$"
      ],
      "text/plain": [
       "'pierwiastek: ' 2/3*I*sqrt(3) ', stopnia: ' 1"
      ]
     },
     "metadata": {},
     "output_type": "display_data"
    },
    {
     "data": {
      "text/html": [
       "<html><script type=\"math/tex; mode=display\">\\newcommand{\\Bold}[1]{\\mathbf{#1}}\\verb|pierwiastek:| 0 \\verb|,|\\phantom{\\verb!x!}\\verb|stopnia:| 2</script></html>"
      ],
      "text/latex": [
       "$$\\newcommand{\\Bold}[1]{\\mathbf{#1}}\\verb|pierwiastek:| 0 \\verb|,|\\phantom{\\verb!x!}\\verb|stopnia:| 2$$"
      ],
      "text/plain": [
       "'pierwiastek: ' 0 ', stopnia: ' 2"
      ]
     },
     "metadata": {},
     "output_type": "display_data"
    },
    {
     "name": "stdout",
     "output_type": "stream",
     "text": [
      "\n",
      "\n"
     ]
    },
    {
     "data": {
      "text/html": [
       "Moje równanie ma następującą postać"
      ],
      "text/plain": [
       "'Moje równanie ma następującą postać'"
      ]
     },
     "metadata": {},
     "output_type": "display_data"
    },
    {
     "data": {
      "text/latex": [
       "$\\displaystyle \\frac{2 x^{2} + 5 x + 3}{3 x^{4} + 4 x^{2}} = \\frac{3 A}{3 x + 2 \\sqrt{3} i} + \\frac{3 B}{3 x - 2 \\sqrt{3} i} + \\frac{C}{x^{2}} + \\frac{D}{x}$"
      ],
      "text/plain": [
       "Eq((2*x**2 + 5*x + 3)/(3*x**4 + 4*x**2), 3*A/(3*x + 2*sqrt(3)*I) + 3*B/(3*x - 2*sqrt(3)*I) + C/x**2 + D/x)"
      ]
     },
     "metadata": {},
     "output_type": "display_data"
    },
    {
     "name": "stdout",
     "output_type": "stream",
     "text": [
      "\n",
      "\n"
     ]
    },
    {
     "data": {
      "text/html": [
       "Moje równanie po sprowadzeniu do wspólnego mianownika :"
      ],
      "text/plain": [
       "'Moje równanie po sprowadzeniu do wspólnego mianownika :'"
      ]
     },
     "metadata": {},
     "output_type": "display_data"
    },
    {
     "data": {
      "text/latex": [
       "$\\displaystyle \\frac{2 x^{2} + 5 x + 3}{3 x^{4} + 4 x^{2}} = \\frac{3 A x^{2} \\left(3 x - 2 \\sqrt{3} i\\right) + 3 B x^{2} \\left(3 x + 2 \\sqrt{3} i\\right) + C \\left(3 x - 2 \\sqrt{3} i\\right) \\left(3 x + 2 \\sqrt{3} i\\right) + D x \\left(3 x - 2 \\sqrt{3} i\\right) \\left(3 x + 2 \\sqrt{3} i\\right)}{x^{2} \\left(3 x - 2 \\sqrt{3} i\\right) \\left(3 x + 2 \\sqrt{3} i\\right)}$"
      ],
      "text/plain": [
       "Eq((2*x**2 + 5*x + 3)/(3*x**4 + 4*x**2), (3*A*x**2*(3*x - 2*sqrt(3)*I) + 3*B*x**2*(3*x + 2*sqrt(3)*I) + C*(3*x - 2*sqrt(3)*I)*(3*x + 2*sqrt(3)*I) + D*x*(3*x - 2*sqrt(3)*I)*(3*x + 2*sqrt(3)*I))/(x**2*(3*x - 2*sqrt(3)*I)*(3*x + 2*sqrt(3)*I)))"
      ]
     },
     "metadata": {},
     "output_type": "display_data"
    },
    {
     "name": "stdout",
     "output_type": "stream",
     "text": [
      "\n",
      "\n"
     ]
    },
    {
     "data": {
      "text/html": [
       "Moje równanie po wymnozeniu nawiasów :"
      ],
      "text/plain": [
       "'Moje równanie po wymnozeniu nawiasów :'"
      ]
     },
     "metadata": {},
     "output_type": "display_data"
    },
    {
     "data": {
      "text/latex": [
       "$\\displaystyle \\frac{2 x^{2} + 5 x + 3}{3 x^{4} + 4 x^{2}} = \\frac{3 A x^{3} - 2 \\sqrt{3} i A x^{2} + 3 B x^{3} + 2 \\sqrt{3} i B x^{2} + 3 C x^{2} + 4 C + 3 D x^{3} + 4 D x}{3 x^{4} + 4 x^{2}}$"
      ],
      "text/plain": [
       "Eq((2*x**2 + 5*x + 3)/(3*x**4 + 4*x**2), (3*A*x**3 - 2*sqrt(3)*I*A*x**2 + 3*B*x**3 + 2*sqrt(3)*I*B*x**2 + 3*C*x**2 + 4*C + 3*D*x**3 + 4*D*x)/(3*x**4 + 4*x**2))"
      ]
     },
     "metadata": {},
     "output_type": "display_data"
    },
    {
     "name": "stdout",
     "output_type": "stream",
     "text": [
      "\n",
      "\n"
     ]
    },
    {
     "data": {
      "text/html": [
       "skracając mianowniki otrzymujemy: "
      ],
      "text/plain": [
       "'skracając mianowniki otrzymujemy: '"
      ]
     },
     "metadata": {},
     "output_type": "display_data"
    },
    {
     "data": {
      "text/latex": [
       "$\\displaystyle 2 x^{2} + 5 x + 3 = 3 A x^{3} - 2 \\sqrt{3} i A x^{2} + 3 B x^{3} + 2 \\sqrt{3} i B x^{2} + 3 C x^{2} + 4 C + 3 D x^{3} + 4 D x$"
      ],
      "text/plain": [
       "Eq(2*x**2 + 5*x + 3, 3*A*x**3 - 2*sqrt(3)*I*A*x**2 + 3*B*x**3 + 2*sqrt(3)*I*B*x**2 + 3*C*x**2 + 4*C + 3*D*x**3 + 4*D*x)"
      ]
     },
     "metadata": {},
     "output_type": "display_data"
    },
    {
     "name": "stdout",
     "output_type": "stream",
     "text": [
      "\n",
      "\n"
     ]
    },
    {
     "data": {
      "text/html": [
       "Grupując wyrażenia otrzymujemy: "
      ],
      "text/plain": [
       "'Grupując wyrażenia otrzymujemy: '"
      ]
     },
     "metadata": {},
     "output_type": "display_data"
    },
    {
     "data": {
      "text/latex": [
       "$\\displaystyle 2 x^{2} + 5 x + 3 = 4 C + 4 D x + x^{3} \\left(3 A + 3 B + 3 D\\right) + x^{2} \\left(- 2 \\sqrt{3} i A + 2 \\sqrt{3} i B + 3 C\\right)$"
      ],
      "text/plain": [
       "Eq(2*x**2 + 5*x + 3, 4*C + 4*D*x + x**3*(3*A + 3*B + 3*D) + x**2*(-2*sqrt(3)*I*A + 2*sqrt(3)*I*B + 3*C))"
      ]
     },
     "metadata": {},
     "output_type": "display_data"
    },
    {
     "name": "stdout",
     "output_type": "stream",
     "text": [
      "\n",
      "\n",
      "Po rozwiązaniu współczyniki wynoszą: \n"
     ]
    },
    {
     "data": {
      "text/latex": [
       "$\\displaystyle \\left\\{ A : - \\frac{5}{8} - \\frac{\\sqrt{3} i}{48}, \\  B : - \\frac{5}{8} + \\frac{\\sqrt{3} i}{48}, \\  C : \\frac{3}{4}, \\  D : \\frac{5}{4}\\right\\}$"
      ],
      "text/plain": [
       "{A: -5/8 - sqrt(3)*I/48, B: -5/8 + sqrt(3)*I/48, C: 3/4, D: 5/4}"
      ]
     },
     "metadata": {},
     "output_type": "display_data"
    },
    {
     "name": "stdout",
     "output_type": "stream",
     "text": [
      "\n",
      "\n",
      "Rozklad na ułamki proste\n"
     ]
    },
    {
     "data": {
      "text/latex": [
       "$\\displaystyle \\frac{2 x^{2} + 5 x + 3}{3 x^{4} + 4 x^{2}} = - \\frac{30 + \\sqrt{3} i}{16 \\left(3 x + 2 \\sqrt{3} i\\right)} - \\frac{30 - \\sqrt{3} i}{16 \\left(3 x - 2 \\sqrt{3} i\\right)} + \\frac{5}{4 x} + \\frac{3}{4 x^{2}}$"
      ],
      "text/plain": [
       "Eq((2*x**2 + 5*x + 3)/(3*x**4 + 4*x**2), -(30 + sqrt(3)*I)/(16*(3*x + 2*sqrt(3)*I)) - (30 - sqrt(3)*I)/(16*(3*x - 2*sqrt(3)*I)) + 5/(4*x) + 3/(4*x**2))"
      ]
     },
     "metadata": {},
     "output_type": "display_data"
    }
   ],
   "source": [
    "from IPython.display import display\n",
    "from sympy import var, apart, Symbol, Eq, fraction, solve, simplify, together, cancel, collect, solve_undetermined_coeffs\n",
    "\n",
    "x = Symbol('x')\n",
    "numerator = 2*x^2+5*x+3\n",
    "denominator = 3*x^4 + 4*x^2\n",
    "\n",
    "w = numerator/denominator\n",
    "\n",
    "roots = []\n",
    "roots = denominator.roots()\n",
    "show('Nasza funkcja: ')\n",
    "show(w)\n",
    "my_roots = []\n",
    "symbols = ['A','B', 'C', 'D','E','F','G','H','I','J','K','L']\n",
    "p = []\n",
    "s = []\n",
    "rhs = 0\n",
    "\n",
    "print('\\n')\n",
    "show('MIEJSCA ZEROWE: ')\n",
    "\n",
    "i = 0\n",
    "for root, degree in roots:\n",
    "    show('pierwiastek: ', root, ', stopnia: ', degree)\n",
    "    if degree == 1:\n",
    "        p.append(var(symbols[i])/(x - root))\n",
    "        s.append(var(symbols[i]))\n",
    "        rhs += p[i]\n",
    "        i += 1\n",
    "    else:\n",
    "        buff = degree\n",
    "        while buff != 0:\n",
    "            p.append(var(symbols[i])/((x - root)^buff))\n",
    "            s.append(var(symbols[i]))\n",
    "            rhs += p[i]\n",
    "            i += 1\n",
    "            buff = buff - 1\n",
    "            \n",
    "    \n",
    "print('\\n')\n",
    "show('Moje równanie ma następującą postać')\n",
    "\n",
    "h = rhs\n",
    "eq = Eq(w,rhs)\n",
    "display(eq)\n",
    "\n",
    "print('\\n')\n",
    "show('Moje równanie po sprowadzeniu do wspólnego mianownika :')\n",
    "rhs = together(rhs)\n",
    "eq = Eq(w,rhs)\n",
    "display(eq)\n",
    "\n",
    "print('\\n')\n",
    "show('Moje równanie po wymnozeniu nawiasów :')\n",
    "rhs = cancel(rhs)\n",
    "eq = Eq(w,rhs)\n",
    "display(eq)\n",
    "\n",
    "rhs = eq.rhs\n",
    "lhs = w\n",
    "\n",
    "numerator_lhs,denominator_lhs = fraction(lhs)\n",
    "numerator_rhs,denominator_rhs = fraction(rhs)\n",
    "\n",
    "divider = cancel(denominator_rhs/denominator_lhs)\n",
    "print('\\n')\n",
    "show('skracając mianowniki otrzymujemy: ')\n",
    "eq = Eq(numerator_lhs*divider,numerator_rhs)\n",
    "display(eq)\n",
    "print('\\n')\n",
    "show('Grupując wyrażenia otrzymujemy: ')\n",
    "eq = Eq(numerator_lhs*divider,numerator_rhs.collect(x))\n",
    "display(eq)\n",
    "print('\\n')\n",
    "print('Po rozwiązaniu współczyniki wynoszą: ')\n",
    "\n",
    "coeffs  = solve_undetermined_coeffs(eq, s ,x)\n",
    "display(simplify(coeffs))\n",
    "print('\\n')\n",
    "print('Rozklad na ułamki proste')\n",
    "\n",
    "display(Eq(w, h.subs(coeffs)))"
   ]
  }
 ],
 "metadata": {
  "kernelspec": {
   "display_name": "SageMath 9.3",
   "language": "sage",
   "name": "sagemath"
  },
  "language_info": {
   "codemirror_mode": {
    "name": "ipython",
    "version": 3
   },
   "file_extension": ".py",
   "mimetype": "text/x-python",
   "name": "python",
   "nbconvert_exporter": "python",
   "pygments_lexer": "ipython3",
   "version": "3.7.10"
  }
 },
 "nbformat": 4,
 "nbformat_minor": 4
}
